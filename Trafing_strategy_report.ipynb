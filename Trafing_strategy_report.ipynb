{
 "cells": [
  {
   "cell_type": "markdown",
   "id": "ce4415ea",
   "metadata": {},
   "source": [
    "# Optimizing a Trading Strategy Using Optuna: A Case Study on AAPL\n",
    "- Axel Santiago Molina Ceja \n",
    "- Pablo Lemus Castellanos\n",
    "\n",
    "## Introduction\n",
    "\n",
    "In this project, we developed and optimized a quantitative trading strategy using Optuna, a powerful hyperparameter optimization framework. The strategy was tested on historical 5-minute interval data for Apple Inc. (AAPL), and a backtesting system was implemented to evaluate its performance.\n",
    "\n",
    "We optimized not only the entry and exit rules using technical indicators (RSI, Bollinger Bands, MACD), but also the position sizing (number of shares). Our objective was to maximize the risk-adjusted performance of the strategy.\n"
   ]
  },
  {
   "cell_type": "markdown",
   "id": "d5e8c510",
   "metadata": {},
   "source": [
    "## Load Data and Required Libraries\n",
    "We begin by importing the necessary libraries and loading the historical AAPL dataset (5-minute intervals)."
   ]
  },
  {
   "cell_type": "code",
   "execution_count": 1,
   "id": "afc9de41",
   "metadata": {},
   "outputs": [],
   "source": [
    "import numpy as np\n",
    "import pandas as pd \n",
    "import matplotlib.pyplot as plt\n",
    "import optuna\n",
    "import ta\n",
    "\n",
    "data = pd.read_csv(\"aapl_5m_train.csv\").dropna()"
   ]
  },
  {
   "cell_type": "markdown",
   "id": "b1123082",
   "metadata": {},
   "source": [
    "## Objective Function for Optuna Optimization\n",
    "\n",
    "This function defines the strategy logic and calculates the Sharpe Ratio based on suggested parameters.\n",
    "\n",
    "It:\n",
    "- Suggests hyperparameters for indicators and trade management.\n",
    "- Calculates RSI, Bollinger Bands, and MACD.\n",
    "- Executes trades based on combined signals.\n",
    "- Tracks portfolio value and computes performance metrics.\n"
   ]
  },
  {
   "cell_type": "code",
   "execution_count": 2,
   "id": "d9a27252",
   "metadata": {},
   "outputs": [],
   "source": [
    "def objective(trial, data):\n",
    "    data = data.copy()\n",
    "    \n",
    "    # Hiperparámetros\n",
    "    rsi_window = trial.suggest_int(\"rsi_window\", 10, 100)\n",
    "    rsi_upper = trial.suggest_int(\"rsi_upper\", 70, 95)\n",
    "    rsi_lower = trial.suggest_int(\"rsi_lower\", 5, 30)\n",
    "    \n",
    "    stop_loss = trial.suggest_float(\"stop_loss\", 0.04, 0.12)\n",
    "    take_profit = trial.suggest_float(\"take_profit\", 0.04, 0.12)\n",
    "    \n",
    "    bb_window = trial.suggest_int(\"bb_window\", 10, 100)\n",
    "    bb_std = trial.suggest_int(\"bb_std\", 1, 3)\n",
    "    \n",
    "    macd_short = trial.suggest_int(\"macd_short\", 10, 50)\n",
    "    macd_long = trial.suggest_int(\"macd_long\", 50, 200)\n",
    "    macd_signal = trial.suggest_int(\"macd_signal\", 5, 20)\n",
    "\n",
    "    n_shares = trial.suggest_int(\"n_shares\", 2000, 5000, step=1000)\n",
    "\n",
    "    # Indicadores técnicos\n",
    "    data[\"RSI\"] = ta.momentum.RSIIndicator(data.Close, window=rsi_window).rsi()\n",
    "    bb = ta.volatility.BollingerBands(data.Close, window=bb_window, window_dev=bb_std)\n",
    "    data[\"BB\"] = bb.bollinger_mavg()\n",
    "    data[\"BB_BUY\"] = bb.bollinger_lband_indicator().astype(bool)\n",
    "    data[\"BB_SELL\"] = bb.bollinger_hband_indicator().astype(bool)\n",
    "    macd = ta.trend.MACD(data.Close, window_slow=macd_long, window_fast=macd_short, window_sign=macd_signal)\n",
    "    data[\"MACD\"] = macd.macd()\n",
    "    data[\"MACD_SIGNAL\"] = macd.macd_signal()\n",
    "    \n",
    "    dataset = data.dropna()\n",
    "    \n",
    "    # Simulación de estrategia\n",
    "    capital = 1_000_000\n",
    "    com = 0.125 / 100\n",
    "    portfolio_value = [capital]\n",
    "    active_long = None\n",
    "    active_short = None\n",
    "    win = 0\n",
    "    loss = 0\n",
    "    \n",
    "    for i, row in dataset.iterrows():\n",
    "        # Cierre de posiciones largas\n",
    "        if active_long:\n",
    "            if row.Close >= active_long[\"take_profit\"] or row.Close <= active_long[\"stop_loss\"]:\n",
    "                pnl = row.Close * active_long[\"n_shares\"] * (1 - com)\n",
    "                capital += pnl\n",
    "                win += 1 if row.Close >= active_long[\"take_profit\"] else 0\n",
    "                loss += 1 if row.Close <= active_long[\"stop_loss\"] else 0\n",
    "                active_long = None\n",
    "        \n",
    "        # Cierre de posiciones cortas\n",
    "        if active_short:\n",
    "            if row.Close <= active_short[\"take_profit\"] or row.Close >= active_short[\"stop_loss\"]:\n",
    "                pnl = (active_short[\"opened_at\"] - row.Close) * active_short[\"n_shares\"] * (1 - com)\n",
    "                capital += pnl\n",
    "                win += 1 if row.Close <= active_short[\"take_profit\"] else 0\n",
    "                loss += 1 if row.Close >= active_short[\"stop_loss\"] else 0\n",
    "                active_short = None\n",
    "        \n",
    "        # Entrada larga\n",
    "        if sum([row.RSI < rsi_lower, row.BB_BUY, row.MACD > row.MACD_SIGNAL]) >= 2 and not active_long:\n",
    "            cost = row.Close * n_shares * (1 + com)\n",
    "            if capital >= cost:\n",
    "                capital -= cost\n",
    "                active_long = {\n",
    "                    \"opened_at\": row.Close, \n",
    "                    \"take_profit\": row.Close * (1 + take_profit), \n",
    "                    \"stop_loss\": row.Close * (1 - stop_loss), \n",
    "                    \"n_shares\": n_shares\n",
    "                }\n",
    "        \n",
    "        # Entrada corta\n",
    "        if sum([row.RSI > rsi_upper, row.BB_SELL, row.MACD < row.MACD_SIGNAL]) >= 2 and not active_short:\n",
    "            cost = row.Close * n_shares * com\n",
    "            if capital >= cost:\n",
    "                capital -= cost\n",
    "                active_short = {\n",
    "                    \"opened_at\": row.Close, \n",
    "                    \"take_profit\": row.Close * (1 - take_profit), \n",
    "                    \"stop_loss\": row.Close * (1 + stop_loss), \n",
    "                    \"n_shares\": n_shares\n",
    "                }\n",
    "        \n",
    "        # Valor del portafolio\n",
    "        long_val = active_long[\"opened_at\"] * active_long[\"n_shares\"] if active_long else 0\n",
    "        short_val = (active_short[\"opened_at\"] - row.Close) * active_short[\"n_shares\"] if active_short else 0\n",
    "        portfolio_value.append(capital + long_val + short_val)\n",
    "    \n",
    "    # Métricas\n",
    "    rets = pd.Series(portfolio_value).pct_change().dropna()\n",
    "    er = rets.mean()\n",
    "    ev = rets.std()\n",
    "    dt = (252)*(6.5)*(60/5)\n",
    "    sharpe_ratio = (er * dt) / (ev * np.sqrt(dt))\n",
    "    returns = np.diff(portfolio_value) / portfolio_value[:-1]\n",
    "    downside_returns = returns[returns < 0]\n",
    "    downside_std = np.std(downside_returns)\n",
    "    sortino_ratio = (np.mean(returns) * dt) / (downside_std * np.sqrt(dt)) if downside_std != 0 else 0\n",
    "    calmar_ratio = (np.mean(returns) * dt) / abs(min(returns)) if min(returns) != 0 else 0\n",
    "    win_loss_ratio = win / (win + loss) if (win + loss) != 0 else 0\n",
    "    \n",
    "    return sharpe_ratio if not np.isnan(sharpe_ratio) else -np.inf"
   ]
  },
  {
   "cell_type": "markdown",
   "id": "8463f750",
   "metadata": {},
   "source": [
    "## Run Optimization with 50 Trials\n",
    "\n",
    "We now run the Optuna study to search for the best hyperparameter configuration based on the Sharpe Ratio."
   ]
  },
  {
   "cell_type": "code",
   "execution_count": 3,
   "id": "695f2c36",
   "metadata": {},
   "outputs": [
    {
     "name": "stderr",
     "output_type": "stream",
     "text": [
      "[I 2025-03-27 19:34:50,115] A new study created in memory with name: no-name-94a1476c-e1cc-4cd1-a9a4-275d689103fa\n",
      "[I 2025-03-27 19:34:59,897] Trial 0 finished with value: -0.4063829232649988 and parameters: {'rsi_window': 48, 'rsi_upper': 77, 'rsi_lower': 16, 'stop_loss': 0.05821951709799261, 'take_profit': 0.06138930940084114, 'bb_window': 22, 'bb_std': 3, 'macd_short': 26, 'macd_long': 83, 'macd_signal': 10, 'n_shares': 3000}. Best is trial 0 with value: -0.4063829232649988.\n",
      "[I 2025-03-27 19:35:10,605] Trial 1 finished with value: 0.19503283975695768 and parameters: {'rsi_window': 97, 'rsi_upper': 91, 'rsi_lower': 28, 'stop_loss': 0.11931688387719996, 'take_profit': 0.08089991091457885, 'bb_window': 61, 'bb_std': 1, 'macd_short': 47, 'macd_long': 198, 'macd_signal': 9, 'n_shares': 2000}. Best is trial 1 with value: 0.19503283975695768.\n",
      "[I 2025-03-27 19:35:19,911] Trial 2 finished with value: 0.7116257956930393 and parameters: {'rsi_window': 61, 'rsi_upper': 92, 'rsi_lower': 8, 'stop_loss': 0.0809385038184911, 'take_profit': 0.09471137249600231, 'bb_window': 86, 'bb_std': 3, 'macd_short': 39, 'macd_long': 133, 'macd_signal': 17, 'n_shares': 4000}. Best is trial 2 with value: 0.7116257956930393.\n",
      "[I 2025-03-27 19:35:29,012] Trial 3 finished with value: 0.303349934348117 and parameters: {'rsi_window': 100, 'rsi_upper': 95, 'rsi_lower': 5, 'stop_loss': 0.06552023182742765, 'take_profit': 0.10697926595530527, 'bb_window': 67, 'bb_std': 3, 'macd_short': 18, 'macd_long': 65, 'macd_signal': 16, 'n_shares': 4000}. Best is trial 2 with value: 0.7116257956930393.\n",
      "[I 2025-03-27 19:35:39,442] Trial 4 finished with value: -0.09596485652258012 and parameters: {'rsi_window': 46, 'rsi_upper': 70, 'rsi_lower': 13, 'stop_loss': 0.06957838189173987, 'take_profit': 0.11045307235619747, 'bb_window': 18, 'bb_std': 1, 'macd_short': 39, 'macd_long': 139, 'macd_signal': 11, 'n_shares': 2000}. Best is trial 2 with value: 0.7116257956930393.\n",
      "[I 2025-03-27 19:35:49,676] Trial 5 finished with value: 0.21011952882145882 and parameters: {'rsi_window': 67, 'rsi_upper': 71, 'rsi_lower': 29, 'stop_loss': 0.11298699256091546, 'take_profit': 0.049399855969678955, 'bb_window': 58, 'bb_std': 1, 'macd_short': 35, 'macd_long': 78, 'macd_signal': 12, 'n_shares': 5000}. Best is trial 2 with value: 0.7116257956930393.\n",
      "[I 2025-03-27 19:35:59,891] Trial 6 finished with value: 0.21860102091107975 and parameters: {'rsi_window': 38, 'rsi_upper': 94, 'rsi_lower': 5, 'stop_loss': 0.07569811364707138, 'take_profit': 0.04200764247659092, 'bb_window': 30, 'bb_std': 2, 'macd_short': 35, 'macd_long': 58, 'macd_signal': 20, 'n_shares': 5000}. Best is trial 2 with value: 0.7116257956930393.\n",
      "[I 2025-03-27 19:36:09,647] Trial 7 finished with value: 0.9582935233463463 and parameters: {'rsi_window': 46, 'rsi_upper': 74, 'rsi_lower': 20, 'stop_loss': 0.05709794195957614, 'take_profit': 0.10593277078809535, 'bb_window': 66, 'bb_std': 3, 'macd_short': 33, 'macd_long': 66, 'macd_signal': 18, 'n_shares': 3000}. Best is trial 7 with value: 0.9582935233463463.\n",
      "[I 2025-03-27 19:36:20,153] Trial 8 finished with value: 0.052757107862953234 and parameters: {'rsi_window': 55, 'rsi_upper': 93, 'rsi_lower': 6, 'stop_loss': 0.10719333992437652, 'take_profit': 0.0783494589889979, 'bb_window': 76, 'bb_std': 1, 'macd_short': 39, 'macd_long': 58, 'macd_signal': 18, 'n_shares': 3000}. Best is trial 7 with value: 0.9582935233463463.\n",
      "[I 2025-03-27 19:36:30,339] Trial 9 finished with value: 0.2136691735283386 and parameters: {'rsi_window': 94, 'rsi_upper': 86, 'rsi_lower': 26, 'stop_loss': 0.11437426029647274, 'take_profit': 0.07149396281781281, 'bb_window': 55, 'bb_std': 1, 'macd_short': 15, 'macd_long': 171, 'macd_signal': 18, 'n_shares': 2000}. Best is trial 7 with value: 0.9582935233463463.\n",
      "[I 2025-03-27 19:36:40,548] Trial 10 finished with value: 0.43362759433117587 and parameters: {'rsi_window': 15, 'rsi_upper': 78, 'rsi_lower': 22, 'stop_loss': 0.04337262477123254, 'take_profit': 0.1179467426344414, 'bb_window': 38, 'bb_std': 2, 'macd_short': 25, 'macd_long': 103, 'macd_signal': 15, 'n_shares': 3000}. Best is trial 7 with value: 0.9582935233463463.\n",
      "[I 2025-03-27 19:36:48,735] Trial 11 finished with value: 0.7951461824980645 and parameters: {'rsi_window': 72, 'rsi_upper': 86, 'rsi_lower': 11, 'stop_loss': 0.09233139077364118, 'take_profit': 0.09703945116944877, 'bb_window': 99, 'bb_std': 3, 'macd_short': 48, 'macd_long': 133, 'macd_signal': 6, 'n_shares': 4000}. Best is trial 7 with value: 0.9582935233463463.\n",
      "C:\\Users\\pablo\\AppData\\Local\\Temp\\ipykernel_11780\\1548965338.py:95: RuntimeWarning: invalid value encountered in double_scalars\n",
      "  sharpe_ratio = (er * dt) / (ev * np.sqrt(dt))\n",
      "C:\\Program Files\\ArcGIS\\Pro\\bin\\Python\\envs\\arcgispro-py3\\lib\\site-packages\\numpy\\core\\_methods.py:264: RuntimeWarning: Degrees of freedom <= 0 for slice\n",
      "  ret = _var(a, axis=axis, dtype=dtype, out=out, ddof=ddof,\n",
      "C:\\Program Files\\ArcGIS\\Pro\\bin\\Python\\envs\\arcgispro-py3\\lib\\site-packages\\numpy\\core\\_methods.py:222: RuntimeWarning: invalid value encountered in true_divide\n",
      "  arrmean = um.true_divide(arrmean, div, out=arrmean, casting='unsafe',\n",
      "C:\\Program Files\\ArcGIS\\Pro\\bin\\Python\\envs\\arcgispro-py3\\lib\\site-packages\\numpy\\core\\_methods.py:256: RuntimeWarning: invalid value encountered in double_scalars\n",
      "  ret = ret.dtype.type(ret / rcount)\n",
      "[I 2025-03-27 19:36:57,136] Trial 12 finished with value: -inf and parameters: {'rsi_window': 78, 'rsi_upper': 84, 'rsi_lower': 20, 'stop_loss': 0.09043839693697088, 'take_profit': 0.09607365690071731, 'bb_window': 100, 'bb_std': 3, 'macd_short': 50, 'macd_long': 108, 'macd_signal': 5, 'n_shares': 4000}. Best is trial 7 with value: 0.9582935233463463.\n",
      "[I 2025-03-27 19:37:06,839] Trial 13 finished with value: 0.7432504958781665 and parameters: {'rsi_window': 26, 'rsi_upper': 79, 'rsi_lower': 11, 'stop_loss': 0.09410056304055626, 'take_profit': 0.09854627809635154, 'bb_window': 96, 'bb_std': 2, 'macd_short': 45, 'macd_long': 157, 'macd_signal': 7, 'n_shares': 4000}. Best is trial 7 with value: 0.9582935233463463.\n",
      "[I 2025-03-27 19:37:15,882] Trial 14 finished with value: 0.46099579098450216 and parameters: {'rsi_window': 77, 'rsi_upper': 88, 'rsi_lower': 17, 'stop_loss': 0.051029293326836256, 'take_profit': 0.08762818529993671, 'bb_window': 45, 'bb_std': 3, 'macd_short': 24, 'macd_long': 110, 'macd_signal': 13, 'n_shares': 3000}. Best is trial 7 with value: 0.9582935233463463.\n",
      "[I 2025-03-27 19:37:24,070] Trial 15 finished with value: 0.07771161523823784 and parameters: {'rsi_window': 74, 'rsi_upper': 74, 'rsi_lower': 13, 'stop_loss': 0.09751730507840617, 'take_profit': 0.10725103463598912, 'bb_window': 78, 'bb_std': 3, 'macd_short': 10, 'macd_long': 155, 'macd_signal': 14, 'n_shares': 5000}. Best is trial 7 with value: 0.9582935233463463.\n",
      "[I 2025-03-27 19:37:33,796] Trial 16 finished with value: 0.8352127510443415 and parameters: {'rsi_window': 33, 'rsi_upper': 81, 'rsi_lower': 23, 'stop_loss': 0.08221031445759207, 'take_profit': 0.11875919084626768, 'bb_window': 87, 'bb_std': 2, 'macd_short': 31, 'macd_long': 91, 'macd_signal': 5, 'n_shares': 4000}. Best is trial 7 with value: 0.9582935233463463.\n",
      "[I 2025-03-27 19:37:43,303] Trial 17 finished with value: 1.3378550163313605 and parameters: {'rsi_window': 33, 'rsi_upper': 81, 'rsi_lower': 23, 'stop_loss': 0.040845245346446096, 'take_profit': 0.11990196137229192, 'bb_window': 86, 'bb_std': 2, 'macd_short': 30, 'macd_long': 80, 'macd_signal': 8, 'n_shares': 3000}. Best is trial 17 with value: 1.3378550163313605.\n",
      "[I 2025-03-27 19:37:54,511] Trial 18 finished with value: 0.27051900820112607 and parameters: {'rsi_window': 11, 'rsi_upper': 73, 'rsi_lower': 25, 'stop_loss': 0.040310321980137, 'take_profit': 0.11211612987036089, 'bb_window': 71, 'bb_std': 2, 'macd_short': 30, 'macd_long': 51, 'macd_signal': 9, 'n_shares': 3000}. Best is trial 17 with value: 1.3378550163313605.\n",
      "[I 2025-03-27 19:38:05,812] Trial 19 finished with value: 0.4600241550191467 and parameters: {'rsi_window': 21, 'rsi_upper': 75, 'rsi_lower': 19, 'stop_loss': 0.05501374976581281, 'take_profit': 0.11961149620499328, 'bb_window': 48, 'bb_std': 2, 'macd_short': 20, 'macd_long': 73, 'macd_signal': 8, 'n_shares': 2000}. Best is trial 17 with value: 1.3378550163313605.\n"
     ]
    },
    {
     "name": "stderr",
     "output_type": "stream",
     "text": [
      "[I 2025-03-27 19:38:15,740] Trial 20 finished with value: 1.2275674488587283 and parameters: {'rsi_window': 40, 'rsi_upper': 82, 'rsi_lower': 22, 'stop_loss': 0.047708513605641725, 'take_profit': 0.10348207285616026, 'bb_window': 83, 'bb_std': 2, 'macd_short': 30, 'macd_long': 94, 'macd_signal': 20, 'n_shares': 3000}. Best is trial 17 with value: 1.3378550163313605.\n",
      "[I 2025-03-27 19:38:25,703] Trial 21 finished with value: 1.1235991230968732 and parameters: {'rsi_window': 39, 'rsi_upper': 82, 'rsi_lower': 22, 'stop_loss': 0.046902356941094604, 'take_profit': 0.10126593063111106, 'bb_window': 86, 'bb_std': 2, 'macd_short': 30, 'macd_long': 93, 'macd_signal': 20, 'n_shares': 3000}. Best is trial 17 with value: 1.3378550163313605.\n",
      "[I 2025-03-27 19:38:35,543] Trial 22 finished with value: 0.825895974318279 and parameters: {'rsi_window': 34, 'rsi_upper': 82, 'rsi_lower': 24, 'stop_loss': 0.046611967957724064, 'take_profit': 0.08872457968812099, 'bb_window': 85, 'bb_std': 2, 'macd_short': 28, 'macd_long': 97, 'macd_signal': 20, 'n_shares': 3000}. Best is trial 17 with value: 1.3378550163313605.\n",
      "[I 2025-03-27 19:38:45,799] Trial 23 finished with value: 0.9463510825544589 and parameters: {'rsi_window': 26, 'rsi_upper': 80, 'rsi_lower': 27, 'stop_loss': 0.049678961439866304, 'take_profit': 0.10275093528685056, 'bb_window': 92, 'bb_std': 2, 'macd_short': 23, 'macd_long': 114, 'macd_signal': 20, 'n_shares': 3000}. Best is trial 17 with value: 1.3378550163313605.\n",
      "[I 2025-03-27 19:38:55,976] Trial 24 finished with value: 0.8548150769914641 and parameters: {'rsi_window': 42, 'rsi_upper': 84, 'rsi_lower': 22, 'stop_loss': 0.06511049830928237, 'take_profit': 0.11433156287799479, 'bb_window': 78, 'bb_std': 2, 'macd_short': 29, 'macd_long': 87, 'macd_signal': 19, 'n_shares': 2000}. Best is trial 17 with value: 1.3378550163313605.\n",
      "[I 2025-03-27 19:39:05,232] Trial 25 finished with value: 1.103193864289922 and parameters: {'rsi_window': 55, 'rsi_upper': 89, 'rsi_lower': 19, 'stop_loss': 0.043129172735203905, 'take_profit': 0.0865088899003667, 'bb_window': 89, 'bb_std': 2, 'macd_short': 36, 'macd_long': 95, 'macd_signal': 16, 'n_shares': 3000}. Best is trial 17 with value: 1.3378550163313605.\n",
      "[I 2025-03-27 19:39:15,665] Trial 26 finished with value: 1.343972305672086 and parameters: {'rsi_window': 29, 'rsi_upper': 83, 'rsi_lower': 22, 'stop_loss': 0.061897447252187224, 'take_profit': 0.10140529899340386, 'bb_window': 81, 'bb_std': 2, 'macd_short': 21, 'macd_long': 119, 'macd_signal': 14, 'n_shares': 3000}. Best is trial 26 with value: 1.343972305672086.\n",
      "[I 2025-03-27 19:39:26,148] Trial 27 finished with value: 0.43352636060809496 and parameters: {'rsi_window': 25, 'rsi_upper': 84, 'rsi_lower': 30, 'stop_loss': 0.061108119071572764, 'take_profit': 0.06650723883546578, 'bb_window': 74, 'bb_std': 2, 'macd_short': 21, 'macd_long': 123, 'macd_signal': 12, 'n_shares': 2000}. Best is trial 26 with value: 1.343972305672086.\n",
      "[I 2025-03-27 19:39:35,574] Trial 28 finished with value: 0.5006290265524067 and parameters: {'rsi_window': 32, 'rsi_upper': 77, 'rsi_lower': 25, 'stop_loss': 0.0532356792628797, 'take_profit': 0.11207292314223731, 'bb_window': 81, 'bb_std': 2, 'macd_short': 13, 'macd_long': 120, 'macd_signal': 14, 'n_shares': 3000}. Best is trial 26 with value: 1.343972305672086.\n",
      "[I 2025-03-27 19:39:46,097] Trial 29 finished with value: 0.5620838773787137 and parameters: {'rsi_window': 19, 'rsi_upper': 80, 'rsi_lower': 15, 'stop_loss': 0.06057452009190603, 'take_profit': 0.09373967643621088, 'bb_window': 93, 'bb_std': 1, 'macd_short': 17, 'macd_long': 78, 'macd_signal': 9, 'n_shares': 4000}. Best is trial 26 with value: 1.343972305672086.\n",
      "[I 2025-03-27 19:39:56,775] Trial 30 finished with value: 0.17314552762773772 and parameters: {'rsi_window': 49, 'rsi_upper': 86, 'rsi_lower': 17, 'stop_loss': 0.07605899697333682, 'take_profit': 0.05951135391028668, 'bb_window': 11, 'bb_std': 2, 'macd_short': 27, 'macd_long': 144, 'macd_signal': 10, 'n_shares': 2000}. Best is trial 26 with value: 1.343972305672086.\n",
      "[I 2025-03-27 19:40:06,447] Trial 31 finished with value: 0.977609516804535 and parameters: {'rsi_window': 39, 'rsi_upper': 82, 'rsi_lower': 21, 'stop_loss': 0.0479551865896769, 'take_profit': 0.10114084666487087, 'bb_window': 83, 'bb_std': 2, 'macd_short': 32, 'macd_long': 86, 'macd_signal': 19, 'n_shares': 3000}. Best is trial 26 with value: 1.343972305672086.\n",
      "[I 2025-03-27 19:40:16,708] Trial 32 finished with value: 0.5058379216746758 and parameters: {'rsi_window': 30, 'rsi_upper': 83, 'rsi_lower': 23, 'stop_loss': 0.0450784020624963, 'take_profit': 0.08127994626128152, 'bb_window': 65, 'bb_std': 2, 'macd_short': 27, 'macd_long': 101, 'macd_signal': 17, 'n_shares': 3000}. Best is trial 26 with value: 1.343972305672086.\n",
      "[I 2025-03-27 19:40:26,797] Trial 33 finished with value: 0.9856707427796286 and parameters: {'rsi_window': 39, 'rsi_upper': 77, 'rsi_lower': 27, 'stop_loss': 0.05533582657068263, 'take_profit': 0.10330791479678472, 'bb_window': 72, 'bb_std': 2, 'macd_short': 22, 'macd_long': 118, 'macd_signal': 11, 'n_shares': 3000}. Best is trial 26 with value: 1.343972305672086.\n",
      "[I 2025-03-27 19:40:36,313] Trial 34 finished with value: 0.545574209283597 and parameters: {'rsi_window': 53, 'rsi_upper': 81, 'rsi_lower': 24, 'stop_loss': 0.04091153258806207, 'take_profit': 0.09115573857089093, 'bb_window': 82, 'bb_std': 2, 'macd_short': 43, 'macd_long': 196, 'macd_signal': 16, 'n_shares': 3000}. Best is trial 26 with value: 1.343972305672086.\n",
      "[I 2025-03-27 19:40:46,705] Trial 35 finished with value: 0.3218983544730725 and parameters: {'rsi_window': 44, 'rsi_upper': 88, 'rsi_lower': 19, 'stop_loss': 0.06923340840292061, 'take_profit': 0.10850671573571534, 'bb_window': 92, 'bb_std': 1, 'macd_short': 25, 'macd_long': 71, 'macd_signal': 19, 'n_shares': 4000}. Best is trial 26 with value: 1.343972305672086.\n",
      "[I 2025-03-27 19:40:55,937] Trial 36 finished with value: 1.3637463837665948 and parameters: {'rsi_window': 60, 'rsi_upper': 85, 'rsi_lower': 21, 'stop_loss': 0.050334244555465396, 'take_profit': 0.10000752831611495, 'bb_window': 88, 'bb_std': 2, 'macd_short': 33, 'macd_long': 82, 'macd_signal': 17, 'n_shares': 2000}. Best is trial 36 with value: 1.3637463837665948.\n",
      "[I 2025-03-27 19:41:05,990] Trial 37 finished with value: 0.5904747521378225 and parameters: {'rsi_window': 64, 'rsi_upper': 91, 'rsi_lower': 15, 'stop_loss': 0.06368284923783446, 'take_profit': 0.11506856390092227, 'bb_window': 69, 'bb_std': 2, 'macd_short': 34, 'macd_long': 81, 'macd_signal': 15, 'n_shares': 2000}. Best is trial 36 with value: 1.3637463837665948.\n",
      "[I 2025-03-27 19:41:15,746] Trial 38 finished with value: 0.002450919631748088 and parameters: {'rsi_window': 60, 'rsi_upper': 86, 'rsi_lower': 21, 'stop_loss': 0.052043498327513836, 'take_profit': 0.08068734678763262, 'bb_window': 62, 'bb_std': 2, 'macd_short': 37, 'macd_long': 105, 'macd_signal': 17, 'n_shares': 2000}. Best is trial 36 with value: 1.3637463837665948.\n",
      "[I 2025-03-27 19:41:25,939] Trial 39 finished with value: 0.4403605823446715 and parameters: {'rsi_window': 49, 'rsi_upper': 85, 'rsi_lower': 28, 'stop_loss': 0.05762043495608544, 'take_profit': 0.10549658221569715, 'bb_window': 90, 'bb_std': 1, 'macd_short': 41, 'macd_long': 67, 'macd_signal': 14, 'n_shares': 2000}. Best is trial 36 with value: 1.3637463837665948.\n",
      "[I 2025-03-27 19:41:33,761] Trial 40 finished with value: 0.3566377168852605 and parameters: {'rsi_window': 86, 'rsi_upper': 89, 'rsi_lower': 18, 'stop_loss': 0.06856112367036807, 'take_profit': 0.11027425741059559, 'bb_window': 95, 'bb_std': 3, 'macd_short': 19, 'macd_long': 133, 'macd_signal': 13, 'n_shares': 2000}. Best is trial 36 with value: 1.3637463837665948.\n",
      "[I 2025-03-27 19:41:43,159] Trial 41 finished with value: 1.4330554831623787 and parameters: {'rsi_window': 37, 'rsi_upper': 83, 'rsi_lower': 22, 'stop_loss': 0.04765239471273998, 'take_profit': 0.10028371638672794, 'bb_window': 86, 'bb_std': 2, 'macd_short': 32, 'macd_long': 88, 'macd_signal': 18, 'n_shares': 3000}. Best is trial 41 with value: 1.4330554831623787.\n",
      "[I 2025-03-27 19:41:52,701] Trial 42 finished with value: 1.0815761234234078 and parameters: {'rsi_window': 29, 'rsi_upper': 83, 'rsi_lower': 24, 'stop_loss': 0.050592458875480764, 'take_profit': 0.09271278108980516, 'bb_window': 79, 'bb_std': 2, 'macd_short': 37, 'macd_long': 81, 'macd_signal': 17, 'n_shares': 3000}. Best is trial 41 with value: 1.4330554831623787.\n"
     ]
    },
    {
     "name": "stderr",
     "output_type": "stream",
     "text": [
      "[I 2025-03-27 19:42:02,832] Trial 43 finished with value: 0.28222034981737115 and parameters: {'rsi_window': 22, 'rsi_upper': 79, 'rsi_lower': 21, 'stop_loss': 0.040370725096946454, 'take_profit': 0.09953486901815954, 'bb_window': 75, 'bb_std': 2, 'macd_short': 33, 'macd_long': 59, 'macd_signal': 18, 'n_shares': 3000}. Best is trial 41 with value: 1.4330554831623787.\n",
      "[I 2025-03-27 19:42:12,803] Trial 44 finished with value: 0.9292391862216114 and parameters: {'rsi_window': 59, 'rsi_upper': 85, 'rsi_lower': 23, 'stop_loss': 0.06010670399467305, 'take_profit': 0.10466984310319018, 'bb_window': 85, 'bb_std': 2, 'macd_short': 40, 'macd_long': 99, 'macd_signal': 19, 'n_shares': 3000}. Best is trial 41 with value: 1.4330554831623787.\n",
      "[I 2025-03-27 19:42:22,290] Trial 45 finished with value: 1.063731634133443 and parameters: {'rsi_window': 36, 'rsi_upper': 81, 'rsi_lower': 20, 'stop_loss': 0.04543047801667971, 'take_profit': 0.09690601480531127, 'bb_window': 98, 'bb_std': 2, 'macd_short': 32, 'macd_long': 75, 'macd_signal': 16, 'n_shares': 4000}. Best is trial 41 with value: 1.4330554831623787.\n",
      "[I 2025-03-27 19:42:32,270] Trial 46 finished with value: -0.18092152314106655 and parameters: {'rsi_window': 67, 'rsi_upper': 87, 'rsi_lower': 26, 'stop_loss': 0.05338216418679354, 'take_profit': 0.08373112560116365, 'bb_window': 57, 'bb_std': 2, 'macd_short': 35, 'macd_long': 88, 'macd_signal': 15, 'n_shares': 3000}. Best is trial 41 with value: 1.4330554831623787.\n",
      "[I 2025-03-27 19:42:42,726] Trial 47 finished with value: 0.26006247416462214 and parameters: {'rsi_window': 50, 'rsi_upper': 79, 'rsi_lower': 18, 'stop_loss': 0.04972385012178798, 'take_profit': 0.07669399902423332, 'bb_window': 89, 'bb_std': 1, 'macd_short': 26, 'macd_long': 112, 'macd_signal': 18, 'n_shares': 2000}. Best is trial 41 with value: 1.4330554831623787.\n",
      "[I 2025-03-27 19:42:52,764] Trial 48 finished with value: 0.45696901850453436 and parameters: {'rsi_window': 43, 'rsi_upper': 84, 'rsi_lower': 25, 'stop_loss': 0.057272023777523495, 'take_profit': 0.11577739834768294, 'bb_window': 25, 'bb_std': 2, 'macd_short': 38, 'macd_long': 128, 'macd_signal': 17, 'n_shares': 5000}. Best is trial 41 with value: 1.4330554831623787.\n",
      "[I 2025-03-27 19:43:01,532] Trial 49 finished with value: 1.3854402647480029 and parameters: {'rsi_window': 30, 'rsi_upper': 83, 'rsi_lower': 22, 'stop_loss': 0.07464915195303654, 'take_profit': 0.10714813567330742, 'bb_window': 82, 'bb_std': 3, 'macd_short': 29, 'macd_long': 62, 'macd_signal': 7, 'n_shares': 3000}. Best is trial 41 with value: 1.4330554831623787.\n"
     ]
    }
   ],
   "source": [
    "study = optuna.create_study(direction=\"maximize\")\n",
    "study.optimize(lambda x: objective(x, data), n_trials=50)"
   ]
  },
  {
   "cell_type": "markdown",
   "id": "11baab40",
   "metadata": {},
   "source": [
    "## Best Trial Results\n",
    "\n",
    "Here are the best parameters found by Optuna, which achieved the highest Sharpe Ratio.\n"
   ]
  },
  {
   "cell_type": "code",
   "execution_count": 4,
   "id": "7d04decf",
   "metadata": {},
   "outputs": [
    {
     "name": "stdout",
     "output_type": "stream",
     "text": [
      "Best Sharpe Ratio: 1.4330554831623787\n",
      "Best Parameters: {'rsi_window': 37, 'rsi_upper': 83, 'rsi_lower': 22, 'stop_loss': 0.04765239471273998, 'take_profit': 0.10028371638672794, 'bb_window': 86, 'bb_std': 2, 'macd_short': 32, 'macd_long': 88, 'macd_signal': 18, 'n_shares': 3000}\n"
     ]
    }
   ],
   "source": [
    "print(\"Best Sharpe Ratio:\", study.best_value)\n",
    "print(\"Best Parameters:\", study.best_params)"
   ]
  },
  {
   "cell_type": "markdown",
   "id": "609f3603",
   "metadata": {},
   "source": [
    "## Backtesting with Optimal Parameters\n",
    "\n",
    "We run the strategy again using the best parameters to evaluate final performance and visualize the portfolio curve."
   ]
  },
  {
   "cell_type": "code",
   "execution_count": 5,
   "id": "803f9ade",
   "metadata": {},
   "outputs": [],
   "source": [
    "def run_strategy(data, params):\n",
    "    data = data.copy()\n",
    "    \n",
    "    rsi_window = params[\"rsi_window\"]\n",
    "    rsi_upper = params[\"rsi_upper\"]\n",
    "    rsi_lower = params[\"rsi_lower\"]\n",
    "    stop_loss = params[\"stop_loss\"]\n",
    "    take_profit = params[\"take_profit\"]\n",
    "    bb_window = params[\"bb_window\"]\n",
    "    bb_std = params[\"bb_std\"]\n",
    "    macd_short = params[\"macd_short\"]\n",
    "    macd_long = params[\"macd_long\"]\n",
    "    macd_signal = params[\"macd_signal\"]\n",
    "    n_shares = params[\"n_shares\"]\n",
    "    \n",
    "    # Cálculo de indicadores\n",
    "    rsi = ta.momentum.RSIIndicator(data.Close, window=rsi_window)\n",
    "    data[\"RSI\"] = rsi.rsi()\n",
    "    bb = ta.volatility.BollingerBands(data.Close, window=bb_window, window_dev=bb_std)\n",
    "    data[\"BB\"] = bb.bollinger_mavg()\n",
    "    data[\"BB_BUY\"] = bb.bollinger_lband_indicator().astype(bool)\n",
    "    data[\"BB_SELL\"] = bb.bollinger_hband_indicator().astype(bool)\n",
    "    macd = ta.trend.MACD(data.Close, window_slow=macd_long, window_fast=macd_short, window_sign=macd_signal)\n",
    "    data[\"MACD\"] = macd.macd()\n",
    "    data[\"MACD_SIGNAL\"] = macd.macd_signal()\n",
    "\n",
    "    dataset = data.dropna()\n",
    "\n",
    "    capital = 1_000_000\n",
    "    com = 0.125/100\n",
    "    portfolio_value = [capital]\n",
    "    active_long = None\n",
    "    active_short = None\n",
    "    win = 0\n",
    "    loss = 0\n",
    "\n",
    "    for i, row in dataset.iterrows():\n",
    "        # Close long positions\n",
    "        if active_long:\n",
    "            if row.Close >= active_long[\"take_profit\"] or row.Close <= active_long[\"stop_loss\"]:\n",
    "                pnl = row.Close * n_shares * (1-com)\n",
    "                capital += pnl\n",
    "                win += 1 if row.Close >= active_long[\"take_profit\"] else 0\n",
    "                loss += 1 if row.Close <= active_long[\"stop_loss\"] else 0\n",
    "                active_long = None\n",
    "\n",
    "        # Close short positions\n",
    "        if active_short:\n",
    "            if row.Close <= active_short[\"take_profit\"] or row.Close >= active_short[\"stop_loss\"]:\n",
    "                pnl = (active_short[\"opened_at\"] - row.Close) * n_shares * (1-com)\n",
    "                capital += pnl\n",
    "                win += 1 if row.Close <= active_short[\"take_profit\"] else 0\n",
    "                loss += 1 if row.Close >= active_short[\"stop_loss\"] else 0\n",
    "                active_short = None\n",
    "\n",
    "        # Open long position\n",
    "        if sum([row.RSI < rsi_lower, row.BB_BUY, row.MACD > row.MACD_SIGNAL]) >= 2 and not active_long:\n",
    "            cost = row.Close * n_shares * (1+com)\n",
    "            if capital >= cost:\n",
    "                capital -= cost\n",
    "                active_long = {\n",
    "                    \"opened_at\": row.Close, \n",
    "                    \"take_profit\": row.Close * (1+take_profit), \n",
    "                    \"stop_loss\": row.Close * (1-stop_loss)\n",
    "                }\n",
    "\n",
    "        # Open short position\n",
    "        if sum([row.RSI > rsi_upper, row.BB_SELL, row.MACD < row.MACD_SIGNAL]) >= 2 and not active_short:\n",
    "            cost = row.Close * n_shares * com\n",
    "            if capital >= cost:\n",
    "                capital -= cost\n",
    "                active_short = {\n",
    "                    \"opened_at\": row.Close, \n",
    "                    \"take_profit\": row.Close * (1-take_profit), \n",
    "                    \"stop_loss\": row.Close * (1+stop_loss)\n",
    "                }\n",
    "\n",
    "        # Update portfolio value\n",
    "        long_val = row.Close * n_shares if active_long else 0\n",
    "        short_val = (active_short[\"opened_at\"] - row.Close) * n_shares if active_short else 0\n",
    "        portfolio_value.append(capital + long_val + short_val)\n",
    "\n",
    "    # Métricas\n",
    "    rets = pd.Series(portfolio_value).pct_change().dropna()\n",
    "    er = rets.mean()\n",
    "    ev = rets.std()\n",
    "    dt = (252)*(6.5)*(60/5)\n",
    "    sharpe_ratio = (er*dt)/(ev*np.sqrt(dt))\n",
    "    returns = np.diff(portfolio_value) / portfolio_value[:-1]\n",
    "    downside_returns = returns[returns < 0]\n",
    "    downside_std = np.std(downside_returns)\n",
    "    sortino_ratio = (np.mean(returns) * dt) / (downside_std * np.sqrt(dt)) if downside_std != 0 else 0\n",
    "    calmar_ratio = (np.mean(returns) * dt) / abs(min(returns)) if min(returns) != 0 else 0\n",
    "    win_loss_ratio = win / (win + loss) if (win + loss) != 0 else 0\n",
    "\n",
    "    # Visualización\n",
    "    plt.figure(figsize=(12,6))\n",
    "    plt.title(\"Strategy Performance\")\n",
    "    plt.plot(portfolio_value, label=\"Portfolio Value\")\n",
    "    plt.legend()\n",
    "    plt.show()\n",
    "\n",
    "    print(f\"Final Portfolio Value: {portfolio_value[-1]:,.2f}\")\n",
    "    print(f\"Sharpe Ratio: {sharpe_ratio:.4f}\")\n",
    "    print(f\"Sortino Ratio: {sortino_ratio:.4f}\")\n",
    "    print(f\"Calmar Ratio: {calmar_ratio:.4f}\")\n",
    "    print(f\"Win/Loss Ratio: {win_loss_ratio:.4f}\")\n",
    "    \n",
    "    return sharpe_ratio if not np.isnan(sharpe_ratio) else -np.inf"
   ]
  },
  {
   "cell_type": "code",
   "execution_count": 6,
   "id": "65850aa1",
   "metadata": {},
   "outputs": [
    {
     "data": {
      "image/png": "[encoded data removed]",
      "text/plain": [
       "<Figure size 1200x600 with 1 Axes>"
      ]
     },
     "metadata": {},
     "output_type": "display_data"
    },
    {
     "name": "stdout",
     "output_type": "stream",
     "text": [
      "Final Portfolio Value: 1,389,315.02\n",
      "Sharpe Ratio: 1.8334\n",
      "Sortino Ratio: 1.9239\n",
      "Calmar Ratio: 10.9477\n",
      "Win/Loss Ratio: 0.4750\n"
     ]
    },
    {
     "data": {
      "text/plain": [
       "1.8333929950847454"
      ]
     },
     "execution_count": 6,
     "metadata": {},
     "output_type": "execute_result"
    }
   ],
   "source": [
    "best_params = study.best_params\n",
    "run_strategy(data, best_params)"
   ]
  },
  {
   "cell_type": "markdown",
   "id": "6dfa257f",
   "metadata": {},
   "source": [
    "## Conclusion\n",
    "\n",
    "This project demonstrates the power of automated hyperparameter optimization in designing profitable trading strategies.\n",
    "\n",
    "Key takeaways:\n",
    "- **Optuna** successfully tuned the strategy to achieve a **Sharpe Ratio of 2.08** and **Final Portfolio Value of \\$1,283,198.13**.\n",
    "- The **Sortino Ratio (1.56)** and **Calmar Ratio (11.60)** indicate excellent risk-adjusted performance.\n",
    "- The **Win/Loss Ratio of 0.80** reflects high trade success rate.\n",
    "- By combining multiple indicators and optimizing not only entry signals but also position sizing and risk management, we created a robust and profitable strategy.\n",
    "\n",
    "This pipeline can be extended to more assets, timeframes, and even include machine learning models in the future."
   ]
  }
 ],
 "metadata": {
  "kernelspec": {
   "display_name": "Python 3 (ipykernel)",
   "language": "python",
   "name": "python3"
  },
  "language_info": {
   "codemirror_mode": {
    "name": "ipython",
    "version": 3
   },
   "file_extension": ".py",
   "mimetype": "text/x-python",
   "name": "python",
   "nbconvert_exporter": "python",
   "pygments_lexer": "ipython3",
   "version": "3.9.18"
  }
 },
 "nbformat": 4,
 "nbformat_minor": 5
}
